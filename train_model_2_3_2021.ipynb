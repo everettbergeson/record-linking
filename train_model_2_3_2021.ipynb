{
 "cells": [
  {
   "cell_type": "markdown",
   "metadata": {},
   "source": [
    "## Import packages"
   ]
  },
  {
   "cell_type": "code",
   "execution_count": 57,
   "metadata": {},
   "outputs": [],
   "source": [
    "# general\n",
    "import pandas as pd\n",
    "import numpy as np\n",
    "import pickle as pkl\n",
    "import os.path\n",
    "from matplotlib import pyplot as plt\n",
    "\n",
    "# model\n",
    "from xgboost import XGBClassifier\n",
    "from sklearn.linear_model import LogisticRegression\n",
    "\n",
    "# metrics\n",
    "from sklearn.model_selection import GridSearchCV, cross_validate\n",
    "from sklearn.metrics import confusion_matrix, precision_score, recall_score, f1_score\n",
    "from sklearn.preprocessing import PolynomialFeatures, StandardScaler\n",
    "from sklearn.model_selection import train_test_split"
   ]
  },
  {
   "cell_type": "markdown",
   "metadata": {},
   "source": [
    "## Load data"
   ]
  },
  {
   "cell_type": "code",
   "execution_count": 45,
   "metadata": {},
   "outputs": [],
   "source": [
    "# Load true pairs\n",
    "X_train = pd.read_stata(r'V:\\FHSS-JoePriceResearch\\papers\\current\\college_mobility\\data\\Bleemer_data\\linking\\4_train_and_predict\\March_training_data_with_clean_bleemer.dta')\n",
    "\n",
    "# Get just the truth column\n",
    "Y_train = X_train[\"truth\"]\n",
    "\n",
    "# Clean up the true pairs to only include comparison columns\n",
    "X_train = X_train[[\"inschool\", \"strdist_fname\", \"strdist_lname\", \"fname_nysiis_match\", \n",
    "                   \"m_init_match\", \"age_difference\", \"single\", \"gender_match\", \n",
    "                   \"dist_birth_places\", \"dist_location_to_event_place\"]]\n",
    "X_train.columns = [\"inschool\", \"strdist_fname\", \"strdist_lname\", \"fname_nysiis_match\", \n",
    "                   \"m_init_match\", \"age_difference\", \"single\", \"gender_match\", \n",
    "                   \"dist_birth_places\", \"dist_location_to_event_place\"]\n",
    "\n",
    "X_train, X_test, Y_train, Y_test = train_test_split(X_train, Y_train)\n",
    "\n",
    "# Also create a training set with polynomial features\n",
    "trans = PolynomialFeatures()\n",
    "X_poly = trans.fit_transform(X_train)\n",
    "X_poly = pd.DataFrame(X_poly)\n",
    "X_poly.columns = trans.get_feature_names(X_train.columns)\n",
    "\n",
    "trans = PolynomialFeatures()\n",
    "X_test_poly = trans.fit_transform(X_test)\n",
    "X_test_poly = pd.DataFrame(X_test_poly)\n",
    "X_test_poly.columns = trans.get_feature_names(X_test.columns)"
   ]
  },
  {
   "cell_type": "code",
   "execution_count": 46,
   "metadata": {},
   "outputs": [],
   "source": [
    "# Scale data\n",
    "scaler = StandardScaler()\n",
    "scaler.fit(X_train)\n",
    "X_scaled = scaler.transform(X_train)\n",
    "\n",
    "# Scale polynomial feature data\n",
    "scaler = StandardScaler()\n",
    "scaler.fit(X_poly)\n",
    "X_poly_sc = scaler.transform(X_poly)\n",
    "\n",
    "# Scale data\n",
    "scaler = StandardScaler()\n",
    "scaler.fit(X_test)\n",
    "X_test_scaled = scaler.transform(X_test)\n",
    "\n",
    "# Scale polynomial feature data\n",
    "scaler = StandardScaler()\n",
    "scaler.fit(X_test_poly)\n",
    "X_test_poly_sc = scaler.transform(X_test_poly)"
   ]
  },
  {
   "cell_type": "markdown",
   "metadata": {},
   "source": [
    "## Cross-validate, choose parameters"
   ]
  },
  {
   "cell_type": "code",
   "execution_count": 47,
   "metadata": {
    "scrolled": true
   },
   "outputs": [
    {
     "name": "stdout",
     "output_type": "stream",
     "text": [
      "100 0.1 3\n"
     ]
    }
   ],
   "source": [
    "# Cross-validate to choose parameters\n",
    "param_grid = {'n_estimators': [100,200],\n",
    "              'learning_rate': [0.01,0.1],\n",
    "              'max_depth': [2,3]}\n",
    "\n",
    "grid = GridSearchCV(XGBClassifier(random_state=5, use_label_encoder=False, eval_metric='logloss'), param_grid, cv=3)\n",
    "#grid.fit(X_scaled,Y_train)\n",
    "grid.fit(X_poly_sc,Y_train)\n",
    "\n",
    "best_n_estimators = grid.best_estimator_.get_params()['n_estimators']\n",
    "best_learning_rate = grid.best_estimator_.get_params()['learning_rate']\n",
    "best_max_depth = grid.best_estimator_.get_params()['max_depth']\n",
    "\n",
    "print(best_n_estimators,best_learning_rate,best_max_depth)"
   ]
  },
  {
   "cell_type": "code",
   "execution_count": 48,
   "metadata": {},
   "outputs": [
    {
     "name": "stdout",
     "output_type": "stream",
     "text": [
      "0.9477054979320295\n",
      "0.9283399957921314\n",
      "0.937689901117508\n"
     ]
    }
   ],
   "source": [
    "# Get performance metrics\n",
    "xgb_model = XGBClassifier(n_estimators=best_n_estimators,\n",
    "                          max_depth=best_max_depth,\n",
    "                          learning_rate=best_learning_rate, \n",
    "                          random_state=5, \n",
    "                          use_label_encoder=False, \n",
    "                          eval_metric='logloss')\n",
    "\n",
    "#scores = cross_validate(xgb_model, X_scaled, Y_train, cv=5, scoring=('precision','recall','f1'))\n",
    "scores = cross_validate(xgb_model, X_poly_sc, Y_train, cv=5, scoring=('precision','recall','f1'))\n",
    "\n",
    "print(scores['test_precision'].mean())\n",
    "print(scores['test_recall'].mean())\n",
    "print(scores['test_f1'].mean())"
   ]
  },
  {
   "cell_type": "code",
   "execution_count": 60,
   "metadata": {},
   "outputs": [
    {
     "name": "stdout",
     "output_type": "stream",
     "text": [
      "(1971, 66)\n",
      "(5911, 66)\n",
      "(5911,)\n",
      "(1971,)\n",
      "181.0\n",
      "Score: 0.9944171882930131\n",
      "Test Score: 0.9553526128868595\n"
     ]
    }
   ],
   "source": [
    "# Fit modeland Score it\n",
    "#xgb_model.fit(X_scaled,Y_train)\n",
    "xgb_model.fit(X_poly_sc,Y_train)\n",
    "print(X_test_poly_sc.shape)\n",
    "print(X_poly_sc.shape)\n",
    "print(Y_train.shape)\n",
    "print(Y_test.shape)\n",
    "\n",
    "print(sum(Y_test))\n",
    "\n",
    "print(f'Score: {xgb_model.score(X_poly_sc, Y_train)}')\n",
    "#print(f'Score: {xgb_model.score(X_scaled, Y_train)}')\n",
    "print(f'Test Score: {xgb_model.score(X_test_poly_sc, Y_test)}')"
   ]
  },
  {
   "cell_type": "code",
   "execution_count": 28,
   "metadata": {},
   "outputs": [
    {
     "name": "stdout",
     "output_type": "stream",
     "text": [
      "Feature Importances\n"
     ]
    },
    {
     "data": {
      "text/html": [
       "<div>\n",
       "<style scoped>\n",
       "    .dataframe tbody tr th:only-of-type {\n",
       "        vertical-align: middle;\n",
       "    }\n",
       "\n",
       "    .dataframe tbody tr th {\n",
       "        vertical-align: top;\n",
       "    }\n",
       "\n",
       "    .dataframe thead th {\n",
       "        text-align: right;\n",
       "    }\n",
       "</style>\n",
       "<table border=\"1\" class=\"dataframe\">\n",
       "  <thead>\n",
       "    <tr style=\"text-align: right;\">\n",
       "      <th></th>\n",
       "      <th>Feature</th>\n",
       "      <th>importance</th>\n",
       "    </tr>\n",
       "  </thead>\n",
       "  <tbody>\n",
       "    <tr>\n",
       "      <th>14</th>\n",
       "      <td>inschool fname_nysiis_match</td>\n",
       "      <td>0.466035</td>\n",
       "    </tr>\n",
       "    <tr>\n",
       "      <th>41</th>\n",
       "      <td>fname_nysiis_match single</td>\n",
       "      <td>0.146050</td>\n",
       "    </tr>\n",
       "    <tr>\n",
       "      <th>29</th>\n",
       "      <td>strdist_fname dist_location_to_event_place</td>\n",
       "      <td>0.061730</td>\n",
       "    </tr>\n",
       "    <tr>\n",
       "      <th>2</th>\n",
       "      <td>strdist_fname</td>\n",
       "      <td>0.058606</td>\n",
       "    </tr>\n",
       "    <tr>\n",
       "      <th>39</th>\n",
       "      <td>fname_nysiis_match m_init_match</td>\n",
       "      <td>0.058594</td>\n",
       "    </tr>\n",
       "    <tr>\n",
       "      <th>...</th>\n",
       "      <td>...</td>\n",
       "      <td>...</td>\n",
       "    </tr>\n",
       "    <tr>\n",
       "      <th>34</th>\n",
       "      <td>strdist_lname single</td>\n",
       "      <td>0.000000</td>\n",
       "    </tr>\n",
       "    <tr>\n",
       "      <th>35</th>\n",
       "      <td>strdist_lname gender_match</td>\n",
       "      <td>0.000000</td>\n",
       "    </tr>\n",
       "    <tr>\n",
       "      <th>38</th>\n",
       "      <td>fname_nysiis_match^2</td>\n",
       "      <td>0.000000</td>\n",
       "    </tr>\n",
       "    <tr>\n",
       "      <th>40</th>\n",
       "      <td>fname_nysiis_match age_difference</td>\n",
       "      <td>0.000000</td>\n",
       "    </tr>\n",
       "    <tr>\n",
       "      <th>65</th>\n",
       "      <td>dist_location_to_event_place^2</td>\n",
       "      <td>0.000000</td>\n",
       "    </tr>\n",
       "  </tbody>\n",
       "</table>\n",
       "<p>66 rows × 2 columns</p>\n",
       "</div>"
      ],
      "text/plain": [
       "                                       Feature  importance\n",
       "14                 inschool fname_nysiis_match    0.466035\n",
       "41                   fname_nysiis_match single    0.146050\n",
       "29  strdist_fname dist_location_to_event_place    0.061730\n",
       "2                                strdist_fname    0.058606\n",
       "39             fname_nysiis_match m_init_match    0.058594\n",
       "..                                         ...         ...\n",
       "34                        strdist_lname single    0.000000\n",
       "35                  strdist_lname gender_match    0.000000\n",
       "38                        fname_nysiis_match^2    0.000000\n",
       "40           fname_nysiis_match age_difference    0.000000\n",
       "65              dist_location_to_event_place^2    0.000000\n",
       "\n",
       "[66 rows x 2 columns]"
      ]
     },
     "execution_count": 28,
     "metadata": {},
     "output_type": "execute_result"
    }
   ],
   "source": [
    "print('Feature Importances')\n",
    "#pd.DataFrame(list(zip(X_train.columns.values,xgb_model.feature_importances_)),\n",
    "#             columns=['Feature','importance']).sort_values('importance',ascending=False)\n",
    "pd.DataFrame(list(zip(X_poly.columns.values,xgb_model.feature_importances_)),\n",
    "             columns=['Feature','importance']).sort_values('importance',ascending=False)"
   ]
  },
  {
   "cell_type": "code",
   "execution_count": 61,
   "metadata": {},
   "outputs": [
    {
     "name": "stdout",
     "output_type": "stream",
     "text": [
      "Score: 0.9854508543393673\n"
     ]
    },
    {
     "name": "stderr",
     "output_type": "stream",
     "text": [
      "R:\\JoePriceResearch\\Python\\Miniconda\\envs\\student_linking\\lib\\site-packages\\sklearn\\linear_model\\_logistic.py:763: ConvergenceWarning: lbfgs failed to converge (status=1):\n",
      "STOP: TOTAL NO. of ITERATIONS REACHED LIMIT.\n",
      "\n",
      "Increase the number of iterations (max_iter) or scale the data as shown in:\n",
      "    https://scikit-learn.org/stable/modules/preprocessing.html\n",
      "Please also refer to the documentation for alternative solver options:\n",
      "    https://scikit-learn.org/stable/modules/linear_model.html#logistic-regression\n",
      "  n_iter_i = _check_optimize_result(\n"
     ]
    },
    {
     "data": {
      "text/html": [
       "<div>\n",
       "<style scoped>\n",
       "    .dataframe tbody tr th:only-of-type {\n",
       "        vertical-align: middle;\n",
       "    }\n",
       "\n",
       "    .dataframe tbody tr th {\n",
       "        vertical-align: top;\n",
       "    }\n",
       "\n",
       "    .dataframe thead th {\n",
       "        text-align: right;\n",
       "    }\n",
       "</style>\n",
       "<table border=\"1\" class=\"dataframe\">\n",
       "  <thead>\n",
       "    <tr style=\"text-align: right;\">\n",
       "      <th></th>\n",
       "      <th>Feature</th>\n",
       "      <th>Coefficent</th>\n",
       "    </tr>\n",
       "  </thead>\n",
       "  <tbody>\n",
       "    <tr>\n",
       "      <th>65</th>\n",
       "      <td>dist_location_to_event_place^2</td>\n",
       "      <td>1.648515</td>\n",
       "    </tr>\n",
       "    <tr>\n",
       "      <th>57</th>\n",
       "      <td>single gender_match</td>\n",
       "      <td>1.073671</td>\n",
       "    </tr>\n",
       "    <tr>\n",
       "      <th>44</th>\n",
       "      <td>fname_nysiis_match dist_location_to_event_place</td>\n",
       "      <td>0.971974</td>\n",
       "    </tr>\n",
       "    <tr>\n",
       "      <th>36</th>\n",
       "      <td>strdist_lname dist_birth_places</td>\n",
       "      <td>0.967381</td>\n",
       "    </tr>\n",
       "    <tr>\n",
       "      <th>4</th>\n",
       "      <td>fname_nysiis_match</td>\n",
       "      <td>0.548263</td>\n",
       "    </tr>\n",
       "    <tr>\n",
       "      <th>...</th>\n",
       "      <td>...</td>\n",
       "      <td>...</td>\n",
       "    </tr>\n",
       "    <tr>\n",
       "      <th>62</th>\n",
       "      <td>gender_match dist_location_to_event_place</td>\n",
       "      <td>-1.019614</td>\n",
       "    </tr>\n",
       "    <tr>\n",
       "      <th>37</th>\n",
       "      <td>strdist_lname dist_location_to_event_place</td>\n",
       "      <td>-1.250531</td>\n",
       "    </tr>\n",
       "    <tr>\n",
       "      <th>59</th>\n",
       "      <td>single dist_location_to_event_place</td>\n",
       "      <td>-1.330852</td>\n",
       "    </tr>\n",
       "    <tr>\n",
       "      <th>51</th>\n",
       "      <td>age_difference^2</td>\n",
       "      <td>-1.506885</td>\n",
       "    </tr>\n",
       "    <tr>\n",
       "      <th>64</th>\n",
       "      <td>dist_birth_places dist_location_to_event_place</td>\n",
       "      <td>-1.824582</td>\n",
       "    </tr>\n",
       "  </tbody>\n",
       "</table>\n",
       "<p>66 rows × 2 columns</p>\n",
       "</div>"
      ],
      "text/plain": [
       "                                            Feature  Coefficent\n",
       "65                   dist_location_to_event_place^2    1.648515\n",
       "57                              single gender_match    1.073671\n",
       "44  fname_nysiis_match dist_location_to_event_place    0.971974\n",
       "36                  strdist_lname dist_birth_places    0.967381\n",
       "4                                fname_nysiis_match    0.548263\n",
       "..                                              ...         ...\n",
       "62        gender_match dist_location_to_event_place   -1.019614\n",
       "37       strdist_lname dist_location_to_event_place   -1.250531\n",
       "59              single dist_location_to_event_place   -1.330852\n",
       "51                                 age_difference^2   -1.506885\n",
       "64   dist_birth_places dist_location_to_event_place   -1.824582\n",
       "\n",
       "[66 rows x 2 columns]"
      ]
     },
     "execution_count": 61,
     "metadata": {},
     "output_type": "execute_result"
    }
   ],
   "source": [
    "'''Logistic Regression to Compare Feature Importances'''\n",
    "logreg_model = LogisticRegression(random_state=0)\n",
    "logreg_model.fit(X_poly_sc, Y_train)\n",
    "#logreg_model.fit(X_scaled, Y_train)\n",
    "\n",
    "#print(f'Score: {logreg_model.score(X_scaled, Y_train)}')\n",
    "print(f'Score: {logreg_model.score(X_poly_sc, Y_train)}')\n",
    "pd.DataFrame(list(zip(X_poly.columns.values, logreg_model.coef_[0])),\n",
    "           columns=['Feature', 'Coefficent']).sort_values('Coefficent', ascending=False)\n",
    "#pd.DataFrame(list(zip(X_train.columns.values, logreg_model.coef_[0])),\n",
    "#           columns=['Feature', 'Coefficent']).sort_values('Coefficent', ascending=False)"
   ]
  },
  {
   "cell_type": "markdown",
   "metadata": {},
   "source": [
    "## Load blocked pairs, run model"
   ]
  },
  {
   "cell_type": "code",
   "execution_count": 50,
   "metadata": {},
   "outputs": [],
   "source": [
    "# Get blocked pairs ready\n",
    "blocked_pairs_raw = pd.read_stata(r'V:\\FHSS-JoePriceResearch\\papers\\current\\college_mobility\\data\\Bleemer_data\\linking\\3_block_and_pull_training\\March_2_blocked_pairs_with_comparisons_clean_bleemer.dta')\n",
    "blocked_pairs = blocked_pairs_raw[[\"inschool\", \"strdist_fname\", \"strdist_lname\", \"fname_nysiis_match\", \n",
    "                   \"m_init_match\", \"age_difference\", \"single\", \"gender_match\", \n",
    "                   \"dist_birth_places\", \"dist_location_to_event_place\"]]\n",
    "blocked_pairs.columns = [\"inschool\", \"strdist_fname\", \"strdist_lname\", \"fname_nysiis_match\", \n",
    "                   \"m_init_match\", \"age_difference\", \"single\", \"gender_match\", \n",
    "                   \"dist_birth_places\", \"dist_location_to_event_place\"]\n",
    "\n",
    "\n",
    "\n",
    "# Create polynomial features for blocked pairs\n",
    "trans = PolynomialFeatures()\n",
    "blocked_poly = trans.fit_transform(blocked_pairs)\n",
    "blocked_poly = pd.DataFrame(blocked_poly)\n",
    "blocked_poly.columns = trans.get_feature_names(blocked_pairs.columns)\n",
    "\n",
    "\n",
    "# Scale blocked pairs\n",
    "scaler = StandardScaler()\n",
    "scaler.fit(blocked_pairs)\n",
    "blocked_scaled = scaler.transform(blocked_pairs)\n",
    "scaler = StandardScaler()\n",
    "scaler.fit(blocked_poly)\n",
    "blocked_poly = scaler.transform(blocked_poly)\n"
   ]
  },
  {
   "cell_type": "code",
   "execution_count": 62,
   "metadata": {},
   "outputs": [
    {
     "name": "stdout",
     "output_type": "stream",
     "text": [
      "Predicting\n"
     ]
    },
    {
     "name": "stderr",
     "output_type": "stream",
     "text": [
      "<ipython-input-62-03bf8c8cec4c>:12: SettingWithCopyWarning: \n",
      "A value is trying to be set on a copy of a slice from a DataFrame.\n",
      "Try using .loc[row_indexer,col_indexer] = value instead\n",
      "\n",
      "See the caveats in the documentation: https://pandas.pydata.org/pandas-docs/stable/user_guide/indexing.html#returning-a-view-versus-a-copy\n",
      "  pairs_with_preds['scores'] = preds[:,1]\n"
     ]
    },
    {
     "data": {
      "image/png": "[encoded data removed]",
      "text/plain": [
       "<Figure size 432x288 with 1 Axes>"
      ]
     },
     "metadata": {
      "needs_background": "light"
     },
     "output_type": "display_data"
    }
   ],
   "source": [
    "# Get predicted probabilities\n",
    "print(\"Predicting\")\n",
    "\n",
    "# xgboost\n",
    "# preds = xgb_model.predict_proba(blocked_poly)\n",
    "# pairs_with_preds = blocked_pairs_raw[['id','ark1920']]\n",
    "# pairs_with_preds['scores'] = preds[:,1]\n",
    "# pairs_with_preds.to_csv('results_with_cleaned_bleemer.csv', index=None)\n",
    "\n",
    "preds = logreg_model.predict_proba(blocked_poly)\n",
    "pairs_with_preds = blocked_pairs_raw[['id','ark1920']]\n",
    "pairs_with_preds['scores'] = preds[:,1]\n",
    "pairs_with_preds.to_csv('results_with_cleaned_bleemer.csv', index=None)\n",
    "\n",
    "plt.hist(preds[:,1], bins='auto')\n",
    "plt.show()\n"
   ]
  },
  {
   "cell_type": "code",
   "execution_count": 63,
   "metadata": {},
   "outputs": [
    {
     "name": "stdout",
     "output_type": "stream",
     "text": [
      "1.0\n"
     ]
    }
   ],
   "source": [
    "print(max(preds[:,1]))"
   ]
  },
  {
   "cell_type": "code",
   "execution_count": 64,
   "metadata": {},
   "outputs": [
    {
     "data": {
      "image/png": "[encoded data removed]",
      "text/plain": [
       "<Figure size 432x288 with 1 Axes>"
      ]
     },
     "metadata": {
      "needs_background": "light"
     },
     "output_type": "display_data"
    }
   ],
   "source": [
    "plt.hist(preds[:,1], bins='auto')\n",
    "plt.show()"
   ]
  },
  {
   "cell_type": "code",
   "execution_count": null,
   "metadata": {},
   "outputs": [],
   "source": []
  }
 ],
 "metadata": {
  "kernelspec": {
   "display_name": "Python 3",
   "language": "python",
   "name": "python3"
  },
  "language_info": {
   "codemirror_mode": {
    "name": "ipython",
    "version": 3
   },
   "file_extension": ".py",
   "mimetype": "text/x-python",
   "name": "python",
   "nbconvert_exporter": "python",
   "pygments_lexer": "ipython3",
   "version": "3.8.5"
  }
 },
 "nbformat": 4,
 "nbformat_minor": 4
}
